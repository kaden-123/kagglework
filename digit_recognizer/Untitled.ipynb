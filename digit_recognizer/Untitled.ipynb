{
 "cells": [
  {
   "cell_type": "code",
   "execution_count": 57,
   "id": "2ec32777-312a-428c-96c3-8486e9b54758",
   "metadata": {},
   "outputs": [],
   "source": [
    "import pandas as pd\n",
    "import numpy as py\n",
    "import torch\n",
    "from torch import nn\n",
    "from sklearn.metrics import accuracy_score\n",
    "import csv"
   ]
  },
  {
   "cell_type": "code",
   "execution_count": 54,
   "id": "209aa284-a886-47ee-9815-27498b0cb236",
   "metadata": {},
   "outputs": [
    {
     "data": {
      "text/html": [
       "<div>\n",
       "<style scoped>\n",
       "    .dataframe tbody tr th:only-of-type {\n",
       "        vertical-align: middle;\n",
       "    }\n",
       "\n",
       "    .dataframe tbody tr th {\n",
       "        vertical-align: top;\n",
       "    }\n",
       "\n",
       "    .dataframe thead th {\n",
       "        text-align: right;\n",
       "    }\n",
       "</style>\n",
       "<table border=\"1\" class=\"dataframe\">\n",
       "  <thead>\n",
       "    <tr style=\"text-align: right;\">\n",
       "      <th></th>\n",
       "      <th>ImageId</th>\n",
       "      <th>Label</th>\n",
       "    </tr>\n",
       "  </thead>\n",
       "  <tbody>\n",
       "    <tr>\n",
       "      <th>0</th>\n",
       "      <td>1</td>\n",
       "      <td>0</td>\n",
       "    </tr>\n",
       "    <tr>\n",
       "      <th>1</th>\n",
       "      <td>2</td>\n",
       "      <td>0</td>\n",
       "    </tr>\n",
       "    <tr>\n",
       "      <th>2</th>\n",
       "      <td>3</td>\n",
       "      <td>0</td>\n",
       "    </tr>\n",
       "    <tr>\n",
       "      <th>3</th>\n",
       "      <td>4</td>\n",
       "      <td>0</td>\n",
       "    </tr>\n",
       "    <tr>\n",
       "      <th>4</th>\n",
       "      <td>5</td>\n",
       "      <td>0</td>\n",
       "    </tr>\n",
       "    <tr>\n",
       "      <th>...</th>\n",
       "      <td>...</td>\n",
       "      <td>...</td>\n",
       "    </tr>\n",
       "    <tr>\n",
       "      <th>27995</th>\n",
       "      <td>27996</td>\n",
       "      <td>0</td>\n",
       "    </tr>\n",
       "    <tr>\n",
       "      <th>27996</th>\n",
       "      <td>27997</td>\n",
       "      <td>0</td>\n",
       "    </tr>\n",
       "    <tr>\n",
       "      <th>27997</th>\n",
       "      <td>27998</td>\n",
       "      <td>0</td>\n",
       "    </tr>\n",
       "    <tr>\n",
       "      <th>27998</th>\n",
       "      <td>27999</td>\n",
       "      <td>0</td>\n",
       "    </tr>\n",
       "    <tr>\n",
       "      <th>27999</th>\n",
       "      <td>28000</td>\n",
       "      <td>0</td>\n",
       "    </tr>\n",
       "  </tbody>\n",
       "</table>\n",
       "<p>28000 rows × 2 columns</p>\n",
       "</div>"
      ],
      "text/plain": [
       "       ImageId  Label\n",
       "0            1      0\n",
       "1            2      0\n",
       "2            3      0\n",
       "3            4      0\n",
       "4            5      0\n",
       "...        ...    ...\n",
       "27995    27996      0\n",
       "27996    27997      0\n",
       "27997    27998      0\n",
       "27998    27999      0\n",
       "27999    28000      0\n",
       "\n",
       "[28000 rows x 2 columns]"
      ]
     },
     "execution_count": 54,
     "metadata": {},
     "output_type": "execute_result"
    }
   ],
   "source": [
    "training_data = pd.read_csv('/home/kadenw/Workspace/kaggle/digit_recognizer/data/train.csv')\n",
    "testing_data = pd.read_csv('/home/kadenw/Workspace/kaggle/digit_recognizer/data/test.csv')\n",
    "submission = pd.read_csv('/home/kadenw/Workspace/kaggle/digit_recognizer/data/sample_submission.csv')\n",
    "submission"
   ]
  },
  {
   "cell_type": "code",
   "execution_count": 44,
   "id": "c78ea06a-aae4-446d-91a8-0ad9d03a5478",
   "metadata": {},
   "outputs": [],
   "source": [
    "training_data_tensor = torch.from_numpy(training_data.iloc[:, 1:].values)\n",
    "training_data_tensor = training_data_tensor.to(torch.float32)\n",
    "training_results_tensor = torch.from_numpy(training_data.iloc[:, 0].values)"
   ]
  },
  {
   "cell_type": "code",
   "execution_count": 45,
   "id": "81be9978-58a7-498b-b9fe-60b468b300a5",
   "metadata": {},
   "outputs": [],
   "source": [
    "testing_data_tensor = torch.from_numpy(testing_data.iloc[:, :].values)\n",
    "testing_data_tensor = testing_data_tensor.to(torch.float32)"
   ]
  },
  {
   "cell_type": "code",
   "execution_count": 46,
   "id": "7e878896-dfd6-43da-81e4-2c026d3ed97a",
   "metadata": {
    "scrolled": true
   },
   "outputs": [],
   "source": [
    "class digit_recognizer(nn.Module):\n",
    "    def __init__(self):\n",
    "        super().__init__()\n",
    "        self.double()\n",
    "        self.fc1 = nn.Linear(in_features = 784,\n",
    "                             out_features = 348)\n",
    "        self.fc2 = nn.Linear(in_features = 348,\n",
    "                             out_features = 68)\n",
    "        self.fc3 = nn.Linear(in_features = 68,\n",
    "                             out_features = 10)\n",
    "        self.relu = nn.ReLU()\n",
    "        self.soft = nn.Softmax(dim = 1)\n",
    "    def forward(self, x):\n",
    "        x = self.relu(self.fc1(x))\n",
    "        x = self.relu(self.fc2(x))\n",
    "        x = self.fc3(x)\n",
    "        return x"
   ]
  },
  {
   "cell_type": "code",
   "execution_count": 47,
   "id": "b520f147-41d6-41dd-a44c-41a619e72a2e",
   "metadata": {
    "scrolled": true
   },
   "outputs": [],
   "source": [
    "digit_recognizer = digit_recognizer()\n",
    "loss_CEL = nn.CrossEntropyLoss()  \n",
    "optimizer = torch.optim.Adam(digit_recognizer.parameters(), lr=0.001)"
   ]
  },
  {
   "cell_type": "code",
   "execution_count": 49,
   "id": "0a7fe207-1d61-4565-8c40-db7696c27936",
   "metadata": {
    "scrolled": true
   },
   "outputs": [
    {
     "name": "stdout",
     "output_type": "stream",
     "text": [
      "Epoch: 0 | Train loss: 9.043221473693848\n",
      "Epoch: 100 | Train loss: 0.10991629213094711\n",
      "Epoch: 200 | Train loss: 0.035489607602357864\n",
      "Epoch: 300 | Train loss: 0.01272184494882822\n",
      "Epoch: 400 | Train loss: 0.0054658567532896996\n"
     ]
    }
   ],
   "source": [
    "epochs = 500\n",
    "for epoch in range(epochs):\n",
    "    digit_recognizer.train()\n",
    "    pred = digit_recognizer(training_data_tensor)\n",
    "    loss = loss_CEL(pred, training_results_tensor)\n",
    "    optimizer.zero_grad()\n",
    "    loss.backward()\n",
    "    optimizer.step()\n",
    "    \n",
    "    \n",
    "    if epoch % 100 == 0:\n",
    "        print(f\"Epoch: {epoch} | Train loss: {loss}\")"
   ]
  },
  {
   "cell_type": "code",
   "execution_count": 56,
   "id": "f4f20cb7-c52d-4d16-af2f-eb108cb4247d",
   "metadata": {},
   "outputs": [
    {
     "data": {
      "text/plain": [
       "array([2, 0, 9, ..., 3, 9, 2])"
      ]
     },
     "execution_count": 56,
     "metadata": {},
     "output_type": "execute_result"
    }
   ],
   "source": [
    "digit_recognizer.eval()\n",
    "with torch.inference_mode():\n",
    "    test_pred = digit_recognizer(testing_data_tensor)\n",
    "    test_pred_np = test_pred.numpy()\n",
    "    pred_num = test_pred_np.argmax(1)\n",
    "pred_num"
   ]
  },
  {
   "cell_type": "code",
   "execution_count": 60,
   "id": "70e590c6-b4ac-404c-bd42-b8984917bd0f",
   "metadata": {},
   "outputs": [],
   "source": [
    "submission['Label'] = pred_num\n",
    "submission.to_csv('/home/kadenw/Workspace/kaggle/digit_recognizer/data/sample_submission.csv', index=False)"
   ]
  },
  {
   "cell_type": "code",
   "execution_count": null,
   "id": "7b9577c5-e968-4a8e-bf2d-e264ac3d347f",
   "metadata": {},
   "outputs": [],
   "source": []
  }
 ],
 "metadata": {
  "kernelspec": {
   "display_name": "Python [conda env:kaggle]",
   "language": "python",
   "name": "conda-env-kaggle-py"
  },
  "language_info": {
   "codemirror_mode": {
    "name": "ipython",
    "version": 3
   },
   "file_extension": ".py",
   "mimetype": "text/x-python",
   "name": "python",
   "nbconvert_exporter": "python",
   "pygments_lexer": "ipython3",
   "version": "3.12.4"
  }
 },
 "nbformat": 4,
 "nbformat_minor": 5
}
